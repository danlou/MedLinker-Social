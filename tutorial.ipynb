{
 "metadata": {
  "language_info": {
   "codemirror_mode": {
    "name": "ipython",
    "version": 3
   },
   "file_extension": ".py",
   "mimetype": "text/x-python",
   "name": "python",
   "nbconvert_exporter": "python",
   "pygments_lexer": "ipython3",
   "version": "3.6.5-final"
  },
  "orig_nbformat": 2,
  "kernelspec": {
   "name": "python3",
   "display_name": "Python 3.6.5 64-bit ('medlinker': conda)",
   "metadata": {
    "interpreter": {
     "hash": "74c40b9522afa58efdb2a574ee747b1e8ac39184d34f47d837234246af155169"
    }
   }
  }
 },
 "nbformat": 4,
 "nbformat_minor": 2,
 "cells": [
  {
   "source": [
    "# MedLinker-Social Tutorial\n",
    "\n",
    "In this notebook, we'll show how to load our Entity Linker and CUI embeddings to run some experiments.\n",
    "\n",
    "Before following this tutorial, make sure you follow the installation instructions on https://github.com/danlou/MedLinker-Social."
   ],
   "cell_type": "markdown",
   "metadata": {}
  },
  {
   "source": [
    "Let's start by importing and initializing MedLinker-Social:"
   ],
   "cell_type": "markdown",
   "metadata": {}
  },
  {
   "cell_type": "code",
   "execution_count": 1,
   "metadata": {},
   "outputs": [
    {
     "output_type": "stream",
     "name": "stderr",
     "text": [
      "08-Dec-20 18:10:50 - INFO - Loading DB ...\n",
      "08-Dec-20 18:11:30 - INFO - Loading Mapping ...\n",
      "08-Dec-20 18:11:47 - INFO - Creating Searcher ...\n"
     ]
    }
   ],
   "source": [
    "from medlinkersocial import MedLinkerSocial\n",
    "\n",
    "# should have previously downloaded these files into the repository\n",
    "db_path='data/SimString/umls_2020_aa_cat0129_ext.3gram.5toks.db'\n",
    "map_path='data/SimString/umls_2020_aa_cat0129_ext.5toks.alias.map'\n",
    "\n",
    "linker = MedLinkerSocial(db_path, map_path, alpha=0.5, n=5)"
   ]
  },
  {
   "source": [
    "In this tutorial, we're starting with the parameters used in the experiments described in the report.\n",
    "\n",
    "\n",
    "- 'alpha': similarity/confidence threshold\n",
    "- 'n': number of tokens (n-grams)\n",
    "\n",
    "\n"
   ],
   "cell_type": "markdown",
   "metadata": {}
  },
  {
   "source": [
    "Just initializing MedLinker-Social this way is enough to start finding matches, let's try with this sentence (or edit the next cell to try a different one):"
   ],
   "cell_type": "markdown",
   "metadata": {}
  },
  {
   "cell_type": "code",
   "execution_count": 24,
   "metadata": {},
   "outputs": [],
   "source": [
    "sent = \"But I often check on her because I'm paranoid and scared of positional asphyxiation.\""
   ]
  },
  {
   "source": [
    "Now we can simply call the .search() method to run both Mention Detection (based on YAKE) and Entity Linking (based on SimString)."
   ],
   "cell_type": "markdown",
   "metadata": {}
  },
  {
   "source": [
    "results = linker.search(sent)\n",
    "results"
   ],
   "cell_type": "code",
   "metadata": {},
   "execution_count": 36,
   "outputs": [
    {
     "output_type": "execute_result",
     "data": {
      "text/plain": [
       "{'sentence': \"But I often check on her because I'm paranoid and scared of positional asphyxiation.\",\n",
       " 'tokens': ['But',\n",
       "  'I',\n",
       "  'often',\n",
       "  'check',\n",
       "  'on',\n",
       "  'her',\n",
       "  'because',\n",
       "  'I',\n",
       "  \"'m\",\n",
       "  'paranoid',\n",
       "  'and',\n",
       "  'scared',\n",
       "  'of',\n",
       "  'positional',\n",
       "  'asphyxiation',\n",
       "  '.'],\n",
       " 'matches': [{'keyword': 'scared positional asphyxiation',\n",
       "   'cui': 'C0004044',\n",
       "   'stys': ['T046'],\n",
       "   'alias': 'asphyxiation',\n",
       "   'start': 11,\n",
       "   'end': 15,\n",
       "   'score': 0.4890754108971043,\n",
       "   'similarity': 0.6546536707079772},\n",
       "  {'keyword': 'asphyxiation',\n",
       "   'cui': 'C0004044',\n",
       "   'stys': ['T046'],\n",
       "   'alias': 'asphyxiation',\n",
       "   'start': 14,\n",
       "   'end': 15,\n",
       "   'score': 0.012911142200214176,\n",
       "   'similarity': 1.0},\n",
       "  {'keyword': 'check',\n",
       "   'cui': 'C1283174',\n",
       "   'stys': ['T052'],\n",
       "   'alias': 'check',\n",
       "   'start': 3,\n",
       "   'end': 4,\n",
       "   'score': 0.007802980443496247,\n",
       "   'similarity': 1.0},\n",
       "  {'keyword': 'scared',\n",
       "   'cui': 'C0015726',\n",
       "   'stys': ['T041'],\n",
       "   'alias': 'scared',\n",
       "   'start': 11,\n",
       "   'end': 12,\n",
       "   'score': 0.007802980443496247,\n",
       "   'similarity': 1.0},\n",
       "  {'keyword': 'positional',\n",
       "   'cui': 'C0240795',\n",
       "   'stys': ['T033'],\n",
       "   'alias': 'positional',\n",
       "   'start': 13,\n",
       "   'end': 14,\n",
       "   'score': 0.007802980443496247,\n",
       "   'similarity': 1.0},\n",
       "  {'keyword': 'paranoid scared positional',\n",
       "   'cui': 'C0240795',\n",
       "   'stys': ['T033'],\n",
       "   'alias': 'positional',\n",
       "   'start': 9,\n",
       "   'end': 14,\n",
       "   'score': 0.2903808748157886,\n",
       "   'similarity': 0.6201736729460423},\n",
       "  {'keyword': 'positional asphyxiation',\n",
       "   'cui': 'C0004044',\n",
       "   'stys': ['T046'],\n",
       "   'alias': 'asphyxiation',\n",
       "   'start': 13,\n",
       "   'end': 15,\n",
       "   'score': 0.08031716157016475,\n",
       "   'similarity': 0.7559289460184544},\n",
       "  {'keyword': 'scared positional',\n",
       "   'cui': 'C0240795',\n",
       "   'stys': ['T033'],\n",
       "   'alias': 'positional',\n",
       "   'start': 11,\n",
       "   'end': 14,\n",
       "   'score': 0.0480517443713715,\n",
       "   'similarity': 0.7669649888473704},\n",
       "  {'keyword': 'paranoid',\n",
       "   'cui': 'C1456786',\n",
       "   'stys': ['T048'],\n",
       "   'alias': 'paranoid state',\n",
       "   'start': 9,\n",
       "   'end': 10,\n",
       "   'score': 0.007802980443496247,\n",
       "   'similarity': 0.7559289460184544},\n",
       "  {'keyword': 'paranoid scared',\n",
       "   'cui': 'C0015726',\n",
       "   'stys': ['T041'],\n",
       "   'alias': 'scared',\n",
       "   'start': 9,\n",
       "   'end': 12,\n",
       "   'score': 0.0480517443713715,\n",
       "   'similarity': 0.6324555320336759}]}"
      ]
     },
     "metadata": {},
     "execution_count": 36
    }
   ]
  },
  {
   "source": [
    "This function returns a dictionary with lots of details, let's look matches more closely."
   ],
   "cell_type": "markdown",
   "metadata": {}
  },
  {
   "cell_type": "code",
   "execution_count": 26,
   "metadata": {},
   "outputs": [
    {
     "output_type": "stream",
     "name": "stdout",
     "text": [
      "{'keyword': 'scared positional asphyxiation', 'cui': 'C0004044', 'stys': ['T046'], 'alias': 'asphyxiation', 'start': 11, 'end': 15, 'score': 0.4890754108971043, 'similarity': 0.6546536707079772}\n{'keyword': 'asphyxiation', 'cui': 'C0004044', 'stys': ['T046'], 'alias': 'asphyxiation', 'start': 14, 'end': 15, 'score': 0.012911142200214176, 'similarity': 1.0}\n{'keyword': 'check', 'cui': 'C1283174', 'stys': ['T052'], 'alias': 'check', 'start': 3, 'end': 4, 'score': 0.007802980443496247, 'similarity': 1.0}\n{'keyword': 'scared', 'cui': 'C0015726', 'stys': ['T041'], 'alias': 'scared', 'start': 11, 'end': 12, 'score': 0.007802980443496247, 'similarity': 1.0}\n{'keyword': 'positional', 'cui': 'C0240795', 'stys': ['T033'], 'alias': 'positional', 'start': 13, 'end': 14, 'score': 0.007802980443496247, 'similarity': 1.0}\n{'keyword': 'paranoid scared positional', 'cui': 'C0240795', 'stys': ['T033'], 'alias': 'positional', 'start': 9, 'end': 14, 'score': 0.2903808748157886, 'similarity': 0.6201736729460423}\n{'keyword': 'positional asphyxiation', 'cui': 'C0004044', 'stys': ['T046'], 'alias': 'asphyxiation', 'start': 13, 'end': 15, 'score': 0.08031716157016475, 'similarity': 0.7559289460184544}\n{'keyword': 'scared positional', 'cui': 'C0240795', 'stys': ['T033'], 'alias': 'positional', 'start': 11, 'end': 14, 'score': 0.0480517443713715, 'similarity': 0.7669649888473704}\n{'keyword': 'paranoid', 'cui': 'C1456786', 'stys': ['T048'], 'alias': 'paranoid state', 'start': 9, 'end': 10, 'score': 0.007802980443496247, 'similarity': 0.7559289460184544}\n{'keyword': 'paranoid scared', 'cui': 'C0015726', 'stys': ['T041'], 'alias': 'scared', 'start': 9, 'end': 12, 'score': 0.0480517443713715, 'similarity': 0.6324555320336759}\n"
     ]
    }
   ],
   "source": [
    "for match in results['matches']:\n",
    "    print(match)"
   ]
  },
  {
   "source": [
    "The linker was initialized with the default overlapping=True, which allows for multiple extractions for subparts of the same phrases. Let's try switching off this feature to get even cleaner results."
   ],
   "cell_type": "markdown",
   "metadata": {}
  },
  {
   "cell_type": "code",
   "execution_count": 27,
   "metadata": {},
   "outputs": [
    {
     "output_type": "stream",
     "name": "stdout",
     "text": [
      "{'keyword': 'scared positional asphyxiation', 'cui': 'C0004044', 'stys': ['T046'], 'alias': 'asphyxiation', 'start': 11, 'end': 15, 'score': 0.4890754108971043, 'similarity': 0.6546536707079772}\n{'keyword': 'check', 'cui': 'C1283174', 'stys': ['T052'], 'alias': 'check', 'start': 3, 'end': 4, 'score': 0.007802980443496247, 'similarity': 1.0}\n{'keyword': 'paranoid', 'cui': 'C1456786', 'stys': ['T048'], 'alias': 'paranoid state', 'start': 9, 'end': 10, 'score': 0.007802980443496247, 'similarity': 0.7559289460184544}\n"
     ]
    }
   ],
   "source": [
    "results = linker.search(sent, overlapping=False)\n",
    "\n",
    "for match in results['matches']:\n",
    "    print(match)"
   ]
  },
  {
   "source": [
    "Now you can see three distinct concepts (CUIs) matched against separate portions of our sentence, along with additional fields that we describe below:\n",
    "\n",
    "- 'stys': semantic types associated to the matched CUI, as defined in the UMLS ontology.\n",
    "- 'alias': which of the CUI's aliases was matched against the text span.\n",
    "- 'start': index of the first token for the matched span, to be used with token list in `results['tokens']`.\n",
    "- 'end': index of the last token for the matched span, to be used with token list in `results['tokens']`.\n",
    "- 'score': score return by YAKE for this text span (i.e. keyword).\n",
    "- 'similarity': similarity computed by SimString, can be understood as our confidence metric."
   ],
   "cell_type": "markdown",
   "metadata": {}
  },
  {
   "source": [
    "We also provide some auxilliary methods to help interpret this information, such getting the names of semantic type codes, or the most frequent aliases for concept ids."
   ],
   "cell_type": "markdown",
   "metadata": {}
  },
  {
   "cell_type": "code",
   "execution_count": 29,
   "metadata": {},
   "outputs": [
    {
     "output_type": "execute_result",
     "data": {
      "text/plain": [
       "'Pathologic Function'"
      ]
     },
     "metadata": {},
     "execution_count": 29
    }
   ],
   "source": [
    "from utils import sty_labels\n",
    "sty_labels['T046']"
   ]
  },
  {
   "cell_type": "code",
   "execution_count": 30,
   "metadata": {},
   "outputs": [
    {
     "output_type": "execute_result",
     "data": {
      "text/plain": [
       "'Suffocate'"
      ]
     },
     "metadata": {},
     "execution_count": 30
    }
   ],
   "source": [
    "from utils import cui_mfa\n",
    "cui_mfa['C0004044']"
   ]
  },
  {
   "cell_type": "code",
   "execution_count": 31,
   "metadata": {},
   "outputs": [
    {
     "output_type": "execute_result",
     "data": {
      "text/plain": [
       "['asphyxia',\n",
       " 'suffocation nos',\n",
       " 'suffocations',\n",
       " 'asphyxiation event',\n",
       " 'asphyxiation',\n",
       " 'suffocating',\n",
       " 'asphyxias',\n",
       " 'suffocation',\n",
       " 'asphyxiation nos',\n",
       " 'suffocate',\n",
       " 'suffocating finding',\n",
       " 'not able breathe',\n",
       " 'unable breath',\n",
       " 'cannot breathe',\n",
       " \"can't breathe\"]"
      ]
     },
     "metadata": {},
     "execution_count": 31
    }
   ],
   "source": [
    "# or show all aliases\n",
    "from utils import cui_alias_map\n",
    "cui_alias_map['C0004044']"
   ]
  },
  {
   "source": [
    "Now let's have a closer look at our top match."
   ],
   "cell_type": "markdown",
   "metadata": {}
  },
  {
   "cell_type": "code",
   "execution_count": 41,
   "metadata": {},
   "outputs": [
    {
     "output_type": "execute_result",
     "data": {
      "text/plain": [
       "('C0004044', ['scared', 'of', 'positional', 'asphyxiation'], 0.655)"
      ]
     },
     "metadata": {},
     "execution_count": 41
    }
   ],
   "source": [
    "top_match = results['matches'][0]\n",
    "top_match_cui = top_match['cui']\n",
    "top_match_tokens = results['tokens'][top_match['start']:top_match['end']]\n",
    "top_match_conf = round(top_match['similarity'], 3)\n",
    "(top_match_cui, top_match_tokens, top_match_conf)"
   ]
  },
  {
   "source": [
    "If you find this span too long, and you'd prefer a more focused (higher confidence) match, you can achieve that through two mechanisms."
   ],
   "cell_type": "markdown",
   "metadata": {}
  },
  {
   "source": [
    "1. You may increase the similarity matching matching threshold: "
   ],
   "cell_type": "markdown",
   "metadata": {}
  },
  {
   "cell_type": "code",
   "execution_count": 42,
   "metadata": {},
   "outputs": [
    {
     "output_type": "execute_result",
     "data": {
      "text/plain": [
       "('C0004044', ['asphyxiation'], 1.0)"
      ]
     },
     "metadata": {},
     "execution_count": 42
    }
   ],
   "source": [
    "results = linker.search(sent, alpha=0.75)  # default is 0.5\n",
    "\n",
    "top_match = results['matches'][0]\n",
    "top_match_cui = top_match['cui']\n",
    "top_match_tokens = results['tokens'][top_match['start']:top_match['end']]\n",
    "top_match_conf = round(top_match['similarity'], 3)\n",
    "(top_match_cui, top_match_tokens, top_match_conf)"
   ]
  },
  {
   "source": [
    "2. Ignore the YAKE extraction score, to consider only matching similarity (making number of tokens not factor):"
   ],
   "cell_type": "markdown",
   "metadata": {}
  },
  {
   "cell_type": "code",
   "execution_count": 43,
   "metadata": {},
   "outputs": [
    {
     "output_type": "execute_result",
     "data": {
      "text/plain": [
       "('C0004044', ['asphyxiation'], 1.0)"
      ]
     },
     "metadata": {},
     "execution_count": 43
    }
   ],
   "source": [
    "results = linker.search(sent, add_yake_score=False)  # default is True\n",
    "\n",
    "top_match = results['matches'][0]\n",
    "top_match_cui = top_match['cui']\n",
    "top_match_tokens = results['tokens'][top_match['start']:top_match['end']]\n",
    "top_match_conf = round(top_match['similarity'], 3)\n",
    "(top_match_cui, top_match_tokens, top_match_conf)"
   ]
  },
  {
   "source": [
    "Now let's see how the linker handles some variability in writing about these conditions."
   ],
   "cell_type": "markdown",
   "metadata": {}
  },
  {
   "cell_type": "code",
   "execution_count": 55,
   "metadata": {},
   "outputs": [
    {
     "output_type": "stream",
     "name": "stdout",
     "text": [
      "{'keyword': 'pulmonary hypertension', 'cui': 'C0020542', 'stys': ['T046'], 'alias': 'pulmonary hypertension', 'start': 3, 'end': 5, 'score': 0.6724221003398605, 'similarity': 1.0}\n{'keyword': 'medication', 'cui': 'C0013227', 'stys': ['T121'], 'alias': 'medication', 'start': 10, 'end': 11, 'score': 0.10919263322004649, 'similarity': 1.0}\n"
     ]
    }
   ],
   "source": [
    "sent = \"She also had pulmonary hypertension and she is now on medication for that.\"\n",
    "\n",
    "results = linker.search(sent, alpha=0.5, overlapping=False, add_yake_score=True)\n",
    "\n",
    "for match in results['matches']:\n",
    "    print(match)"
   ]
  },
  {
   "source": [
    "Some changes will be covered by the thesaurus, thus replaced before matching and leaving similarity unaffected."
   ],
   "cell_type": "markdown",
   "metadata": {}
  },
  {
   "cell_type": "code",
   "execution_count": 61,
   "metadata": {},
   "outputs": [
    {
     "output_type": "stream",
     "name": "stdout",
     "text": [
      "{'keyword': 'pulmonary hypertension', 'cui': 'C0020542', 'stys': ['T046'], 'alias': 'pulmonary hypertension', 'start': 3, 'end': 5, 'score': 0.6724221003398605, 'similarity': 1.0}\n{'keyword': 'medication', 'cui': 'C0013227', 'stys': ['T121'], 'alias': 'medication', 'start': 10, 'end': 11, 'score': 0.10919263322004649, 'similarity': 1.0}\n"
     ]
    }
   ],
   "source": [
    "# pulmonary -> pulomary (variation covered by thesaurus)\n",
    "sent = \"She also had pulmonary hypertension and she is now on medication for that.\"\n",
    "\n",
    "results = linker.search(sent, alpha=0.5, overlapping=False, add_yake_score=True)\n",
    "\n",
    "for match in results['matches']:\n",
    "    print(match)"
   ]
  },
  {
   "source": [
    "Others will be caught by the approximate matching of SimString, affecting the similarity and being admissable depending on the threshold."
   ],
   "cell_type": "markdown",
   "metadata": {}
  },
  {
   "cell_type": "code",
   "execution_count": 62,
   "metadata": {},
   "outputs": [
    {
     "output_type": "stream",
     "name": "stdout",
     "text": [
      "{'keyword': 'pulmonary hypertension', 'cui': 'C0020542', 'stys': ['T046'], 'alias': 'pulmonary hypertension', 'start': 3, 'end': 5, 'score': 0.6724221003398605, 'similarity': 1.0}\n{'keyword': 'medicacion', 'cui': 'C0013227', 'stys': ['T121'], 'alias': 'medication', 'start': 10, 'end': 11, 'score': 0.10919263322004649, 'similarity': 0.7}\n"
     ]
    }
   ],
   "source": [
    "# medication -> medicacion (variation not covered by thesaurus)\n",
    "sent = \"She also had pulmonary hypertension and she is now on medicacion for that.\"\n",
    "\n",
    "results = linker.search(sent, alpha=0.5, overlapping=False, add_yake_score=True)\n",
    "\n",
    "for match in results['matches']:\n",
    "    print(match)"
   ]
  },
  {
   "cell_type": "code",
   "execution_count": 63,
   "metadata": {},
   "outputs": [
    {
     "output_type": "stream",
     "name": "stdout",
     "text": [
      "{'keyword': 'pulmonary hypertension', 'cui': 'C0020542', 'stys': ['T046'], 'alias': 'pulmonary hypertension', 'start': 3, 'end': 5, 'score': 0.6724221003398605, 'similarity': 1.0}\n"
     ]
    }
   ],
   "source": [
    "# medication -> medicacion (variation not covered by thesaurus)\n",
    "sent = \"She also had pulmonary hypertension and she is now on medicacion for that.\"\n",
    "\n",
    "# increasing threshold 0.5 -> 0.8\n",
    "results = linker.search(sent, alpha=0.8, overlapping=False, add_yake_score=True)\n",
    "\n",
    "for match in results['matches']:\n",
    "    print(match)"
   ]
  },
  {
   "source": [
    "Now let's see how we may make use of the precomputed UMLS concept embeddings. We can start by loading the embeddings learned from our Reddit and EuroPMC corpora."
   ],
   "cell_type": "markdown",
   "metadata": {}
  },
  {
   "source": [
    "from vectorspace import VSM\n",
    "\n",
    "reddit_vsm = VSM('data/reddit/reddit-vectors-subset.txt')\n",
    "europmc_vsm = VSM('data/europmc/europmc-vectors-subset.txt')"
   ],
   "cell_type": "code",
   "metadata": {},
   "execution_count": 65,
   "outputs": []
  },
  {
   "source": [
    "Now we can easily find most similar concepts, and compare differences in each space."
   ],
   "cell_type": "markdown",
   "metadata": {}
  },
  {
   "cell_type": "code",
   "execution_count": 69,
   "metadata": {},
   "outputs": [
    {
     "output_type": "execute_result",
     "data": {
      "text/plain": [
       "[('C0004044', 'Suffocate', 1.0),\n",
       " ('C0150082', 'Suffocation risk', 0.8749221563339233),\n",
       " ('C0231811', 'Suffocated', 0.8133983612060547),\n",
       " ('C1536743', 'Accidental suffocation nos', 0.7687143087387085),\n",
       " ('C0038644', 'Sids', 0.7321560978889465),\n",
       " ('C0546947', 'Choking sensation', 0.683613121509552),\n",
       " ('C0549159', 'Infant deaths', 0.6491534113883972),\n",
       " ('C0598697', 'Hazard', 0.6375374794006348),\n",
       " ('C0421611', 'Place death', 0.6327787637710571),\n",
       " ('C0021278', 'Infant death', 0.6298763751983643)]"
      ]
     },
     "metadata": {},
     "execution_count": 69
    }
   ],
   "source": [
    "reddit_neighbors = reddit_vsm.most_similar('C0004044', topn=10)\n",
    "[(cui, cui_mfa[cui], sim) for cui, sim in reddit_neighbors]  # including MFA to make it easier to follow"
   ]
  },
  {
   "cell_type": "code",
   "execution_count": 70,
   "metadata": {},
   "outputs": [
    {
     "output_type": "execute_result",
     "data": {
      "text/plain": [
       "[('C0004044', 'Suffocate', 0.9999999403953552),\n",
       " ('C0150082', 'Suffocation risk', 0.870628833770752),\n",
       " ('C0231811', 'Suffocated', 0.8408768177032471),\n",
       " ('C1536743', 'Accidental suffocation nos', 0.8010740280151367),\n",
       " ('C0038644', 'Sids', 0.7536582946777344),\n",
       " ('C0410916', 'Newborn death', 0.7269656658172607),\n",
       " ('C0011071', 'Death sudden', 0.7264581322669983),\n",
       " ('C0159020', 'Fits newborn', 0.698747992515564),\n",
       " ('C0011057', 'Sudden hear loss', 0.686185359954834),\n",
       " ('C0413297', 'Dry drowning', 0.6743696928024292)]"
      ]
     },
     "metadata": {},
     "execution_count": 70
    }
   ],
   "source": [
    "europmc_neighbors = europmc_vsm.most_similar('C0004044', topn=10)\n",
    "[(cui, cui_mfa[cui], sim) for cui, sim in europmc_neighbors]  # including MFA to make it easier to follow"
   ]
  },
  {
   "source": [
    "Since these concept embeddings are based on the word embeddings learned directly from each corpus, we can combine them with natural language terms.\n",
    "\n",
    "So we'll also need to load the full fastText models."
   ],
   "cell_type": "markdown",
   "metadata": {}
  },
  {
   "cell_type": "code",
   "execution_count": 71,
   "metadata": {},
   "outputs": [],
   "source": [
    "import fasttext\n",
    "\n",
    "europmc_fasttext = fasttext.load_model('data/europmc/europmc-vectors.bin')\n",
    "reddit_fasttext = fasttext.load_model('data/reddit/reddit-vectors.bin')"
   ]
  },
  {
   "source": [
    "Using these models we can, for example, see how UMLS concepts of a certain type are related to distressed emotional states:"
   ],
   "cell_type": "markdown",
   "metadata": {}
  },
  {
   "source": [
    "import numpy as np\n",
    "\n",
    "target_type = 'T047'  # Disease or Syndrome\n",
    "for emotion in ['sad', 'miserable', 'angry', 'anxious', 'obsessed', 'depressed', 'exhausted', 'disgusted', 'outraged', 'confused']:\n",
    "    emotion_vec = reddit_fasttext[emotion]\n",
    "    emotion_vec = emotion_vec / np.linalg.norm(emotion_vec)  # normalize vector before cosine\n",
    "    emotion_nns = reddit_vsm.most_similar_vec(emotion_vec, topn=None)  # returns all similarities\n",
    "    emotion_nns = [(cui, sim) for cui, sim in emotion_nns if target_type in linker.get_types(cui)][:3]\n",
    "    emotion_nns = [(cui, linker.get_mfa(cui), round(sim, 3)) for (cui, sim) in emotion_nns]\n",
    "    print(emotion, emotion_nns)"
   ],
   "cell_type": "code",
   "metadata": {
    "tags": []
   },
   "execution_count": 94,
   "outputs": [
    {
     "output_type": "stream",
     "name": "stdout",
     "text": [
      "sad [('C0018801', 'Heart failure', 0.471), ('C3665704', 'Crie', 0.444), ('C0000814', 'Missed miscarriage', 0.407)]\n",
      "miserable [('C1960870', 'Chronic migraine', 0.474), ('C0014481', 'Three day sickness', 0.468), ('C0013467', 'East coast fever', 0.462)]\n",
      "angry [('C0004095', 'Eye tired', 0.502), ('C0749539', 'Callous toe', 0.47), ('C0040264', 'Ear ringing', 0.43)]\n",
      "anxious [('C0234533', 'Generalized seizure', 0.435), ('C0271489', 'Paralyzing vertigo', 0.42), ('C3203733', 'Texidor twinge', 0.406)]\n",
      "obsessed [('C0424868', 'Chewing problem', 0.447), ('C0263940', 'Curb', 0.394), ('C0399397', 'Rampant dental caries', 0.393)]\n",
      "depressed [('C0003123', 'Anorexia', 0.534), ('C0234533', 'Generalized seizure', 0.528), ('C0683323', 'Physical illness', 0.498)]\n",
      "exhausted [('C0004095', 'Eye tired', 0.522), ('C0276573', 'Aids with fatigue', 0.473), ('C0009088', 'Cluster headache', 0.447)]\n",
      "disgusted [('C0003123', 'Anorexia', 0.439), ('C0423086', 'Staring', 0.438), ('C0856619', 'Sexual problem', 0.436)]\n",
      "outraged [('C0949628', 'Uniparental disomy', 0.44), ('C0948664', 'Imminent abortion', 0.418), ('C0030312', 'Bone marrow failure', 0.405)]\n",
      "confused [('C0234517', 'Jumbled speech', 0.38), ('C0423086', 'Staring', 0.373), ('C0038379', 'Cross eyed', 0.349)]\n"
     ]
    }
   ]
  },
  {
   "source": [
    "Similarly, we may use distances between opposite terms of scale to determine the placement of each concept on that scale.\n",
    "\n"
   ],
   "cell_type": "markdown",
   "metadata": {}
  },
  {
   "cell_type": "code",
   "execution_count": 100,
   "metadata": {},
   "outputs": [
    {
     "output_type": "stream",
     "name": "stdout",
     "text": [
      "EFCNI Concepts ordered by relatedness to early preterms vs. late preterms:\n\nC3494262 Extremely preterm infant -0.19304973\nC0270971 Floppy baby -0.08424756\nC0022346 Jaundice -0.03182125\nC0746102 Chronic lung disease -0.018420875\nC0039231 Heart racing -0.015542209\nC0020672 Hypothermia -0.01441738\nC0022353 Baby jaundice -0.0125117\nC0231835 Fast breathing -0.010804266\nC0026827 Low muscle tone -0.009894878\nC0004044 Suffocate -0.0058891177\nC0746961 Desaturation -0.0028530657\nC0003578 Apnea 0.0017508268\nC0269810 Sepsis during labor 0.0029874444\nC0369768 Oxygen saturation 0.0075264573\nC0428977 Pulse slowed 0.008679509\nC0559477 Perinatal depression 0.010171503\nC0020615 Low blood sugar 0.01761666\nC0036690 Sepsis 0.019049704\nC0728731 Babies born premature 0.02091676\nC0025289 Meningitis 0.023334652\nC0242184 Decreased oxygen supply 0.024100065\nC0035236 Rsv 0.032326072\nC0020542 Pulmonary hypertension 0.04187584\nC0000832 Placental abruption 0.046814203\nC0032285 Pneumonia 0.05292332\nC0032326 Pneumothorax 0.057192147\nC0151526 Pre term 0.06241077\nC0473390 Threatened preterm labor 0.0625332\nC2735340 Preterm labor symptoms 0.06565601\nC4048294 Preterm baby 0.066536725\nC0022876 Early labor 0.07675755\nC3829315 Late preterm birth 0.1449194\n"
     ]
    }
   ],
   "source": [
    "from utils import efcni_cuis\n",
    "\n",
    "term1 = 'extremely preterm'\n",
    "term2 = 'late preterm'\n",
    "\n",
    "term1_vec = reddit_fasttext[term1]\n",
    "term1_vec = term1_vec / np.linalg.norm(term1_vec)\n",
    "term2_vec = reddit_fasttext[term2]\n",
    "term2_vec = term2_vec / np.linalg.norm(term2_vec)\n",
    "\n",
    "cui_dists = []\n",
    "for cui in efcni_cuis:\n",
    "    if cui in reddit_vsm.labels:\n",
    "        cui_vec = reddit_vsm.get_vec(cui)\n",
    "        term1_sim = np.dot(term1_vec, cui_vec)\n",
    "        term2_sim = np.dot(term2_vec, cui_vec)\n",
    "        cui_dists.append((cui, term2_sim - term1_sim))\n",
    "\n",
    "cui_dists = sorted(cui_dists, key=lambda x: x[1])\n",
    "\n",
    "print('EFCNI Concepts ordered by relatedness to early preterms vs. late preterms:\\n')\n",
    "for cui, dist in cui_dists:\n",
    "    print(cui, linker.get_mfa(cui), dist)"
   ]
  }
 ]
}